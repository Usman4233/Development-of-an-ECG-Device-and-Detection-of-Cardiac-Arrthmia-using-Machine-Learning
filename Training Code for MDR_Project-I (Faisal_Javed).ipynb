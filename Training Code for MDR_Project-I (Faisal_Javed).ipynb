{
 "cells": [
  {
   "cell_type": "code",
   "execution_count": 1,
   "metadata": {},
   "outputs": [],
   "source": [
    "import wfdb\n",
    "import numpy as np\n",
    "import matplotlib.pyplot as plt\n",
    "import pandas as pd\n",
    "from sklearn.model_selection import train_test_split\n",
    "from sklearn.metrics import classification_report, confusion_matrix,accuracy_score\n",
    "from sklearn.preprocessing import LabelEncoder\n",
    "\n",
    "from tensorflow.python.keras.utils import np_utils\n",
    "from tensorflow.python.keras.layers import Dense\n",
    "from tensorflow.python.keras.models import Sequential\n",
    "from tensorflow.python.keras.layers import BatchNormalization\n",
    "\n",
    "from keras.models import Sequential\n",
    "from keras.layers import Dense, Flatten, Dropout\n",
    "from tensorflow.keras.utils import to_categorical\n",
    "from keras.layers import Conv1D\n",
    "from keras.layers import Bidirectional, LSTM\n",
    "import scipy"
   ]
  },
  {
   "cell_type": "code",
   "execution_count": 2,
   "metadata": {},
   "outputs": [],
   "source": [
    "def get_examples(files:list):\n",
    "    data = []\n",
    "    for file_name in files:\n",
    "        path = 'incart-data/' + file_name\n",
    "        rec = wfdb.rdrecord(path)\n",
    "        ecg = rec.p_signal[:, 0]\n",
    "        ecg = scipy.fft.fft(ecg)\n",
    "        data.append(ecg)\n",
    "        \n",
    "    examples = []\n",
    "    for signal in data:\n",
    "        for i in range(120):\n",
    "            x = signal[i * 1285:(i + 1) * 1285]\n",
    "            examples.append(x)\n",
    "            \n",
    "    return examples"
   ]
  },
  {
   "cell_type": "code",
   "execution_count": 3,
   "metadata": {},
   "outputs": [],
   "source": [
    "pvc = get_examples(['I21','I23','I24','I19','I27','I28','I29','I33']) #PVCs"
   ]
  },
  {
   "cell_type": "code",
   "execution_count": 4,
   "metadata": {},
   "outputs": [],
   "source": [
    "vc = get_examples(['I53','I48','I45','I43','I42','I36','I35','I26']) #ventricular couplets"
   ]
  },
  {
   "cell_type": "code",
   "execution_count": 5,
   "metadata": {},
   "outputs": [],
   "source": [
    "bc = get_examples(['I75','I73','I61','I52','I37','I28','I17','I04']) #Bradycardia"
   ]
  },
  {
   "cell_type": "code",
   "execution_count": 6,
   "metadata": {},
   "outputs": [],
   "source": [
    "pvt = get_examples(['I75','I67','I66','I65','I55','I54','I44','I43']) #Proxysmal VT"
   ]
  },
  {
   "cell_type": "code",
   "execution_count": 7,
   "metadata": {},
   "outputs": [],
   "source": [
    "vb = get_examples(['I52','I47','I43','I40','I42','I32','I27','I08']) #Ventricular Bigeminy"
   ]
  },
  {
   "cell_type": "code",
   "execution_count": 8,
   "metadata": {},
   "outputs": [],
   "source": [
    "X = np.array([*pvc, *vc, *bc, *pvt, *vb])"
   ]
  },
  {
   "cell_type": "code",
   "execution_count": 9,
   "metadata": {},
   "outputs": [
    {
     "data": {
      "text/plain": [
       "(4800, 1285)"
      ]
     },
     "execution_count": 9,
     "metadata": {},
     "output_type": "execute_result"
    }
   ],
   "source": [
    "X.shape"
   ]
  },
  {
   "cell_type": "code",
   "execution_count": 10,
   "metadata": {},
   "outputs": [
    {
     "data": {
      "text/plain": [
       "(4800,)"
      ]
     },
     "execution_count": 10,
     "metadata": {},
     "output_type": "execute_result"
    }
   ],
   "source": [
    "labels = []\n",
    "for i in range(5):\n",
    "    for j in range(960):\n",
    "        labels.append(i)\n",
    "Y = np.array(labels)\n",
    "Y.shape"
   ]
  },
  {
   "cell_type": "code",
   "execution_count": 11,
   "metadata": {},
   "outputs": [],
   "source": [
    "from sklearn.utils import shuffle"
   ]
  },
  {
   "cell_type": "code",
   "execution_count": 12,
   "metadata": {},
   "outputs": [],
   "source": [
    "X,Y = shuffle(X,Y)"
   ]
  },
  {
   "cell_type": "code",
   "execution_count": 13,
   "metadata": {},
   "outputs": [],
   "source": [
    "x_train, x_test, y_train, y_test = train_test_split(X,Y, test_size=0.3)"
   ]
  },
  {
   "cell_type": "code",
   "execution_count": 14,
   "metadata": {},
   "outputs": [],
   "source": [
    "prediction_model = Sequential()\n",
    "# Add the first layer\n",
    "prediction_model.add(Dense(64, activation='sigmoid',input_shape=(1285,), kernel_initializer='normal'))\n",
    "prediction_model.add(Dense(64, activation='sigmoid', kernel_initializer='normal'))\n",
    "prediction_model.add(Dense(64, activation='sigmoid', kernel_initializer='normal'))\n",
    "prediction_model.add(Dense(64, activation='sigmoid', kernel_initializer='normal'))\n",
    "prediction_model.add(Dense(5, activation='softmax', kernel_initializer='normal'))"
   ]
  },
  {
   "cell_type": "code",
   "execution_count": 15,
   "metadata": {},
   "outputs": [
    {
     "name": "stdout",
     "output_type": "stream",
     "text": [
      "Epoch 1/100\n",
      "53/53 [==============================] - 2s 17ms/step - loss: 1.6125 - accuracy: 0.2018 - val_loss: 1.6184 - val_accuracy: 0.1854\n",
      "Epoch 2/100\n",
      "53/53 [==============================] - 0s 7ms/step - loss: 1.6095 - accuracy: 0.2089 - val_loss: 1.6178 - val_accuracy: 0.1965\n",
      "Epoch 3/100\n",
      "53/53 [==============================] - 0s 8ms/step - loss: 1.6089 - accuracy: 0.2161 - val_loss: 1.6069 - val_accuracy: 0.1965\n",
      "Epoch 4/100\n",
      "53/53 [==============================] - 0s 8ms/step - loss: 1.5876 - accuracy: 0.2699 - val_loss: 1.5760 - val_accuracy: 0.2549\n",
      "Epoch 5/100\n",
      "53/53 [==============================] - 0s 9ms/step - loss: 1.5019 - accuracy: 0.3238 - val_loss: 1.5620 - val_accuracy: 0.2771\n",
      "Epoch 6/100\n",
      "53/53 [==============================] - 0s 7ms/step - loss: 1.4456 - accuracy: 0.3429 - val_loss: 1.5904 - val_accuracy: 0.2465\n",
      "Epoch 7/100\n",
      "53/53 [==============================] - 0s 8ms/step - loss: 1.4145 - accuracy: 0.3458 - val_loss: 1.6062 - val_accuracy: 0.2500\n",
      "Epoch 8/100\n",
      "53/53 [==============================] - 0s 8ms/step - loss: 1.3835 - accuracy: 0.3786 - val_loss: 1.6262 - val_accuracy: 0.2743\n",
      "Epoch 9/100\n",
      "53/53 [==============================] - 1s 12ms/step - loss: 1.3673 - accuracy: 0.3884 - val_loss: 1.6433 - val_accuracy: 0.2917\n",
      "Epoch 10/100\n",
      "53/53 [==============================] - 1s 10ms/step - loss: 1.3469 - accuracy: 0.4179 - val_loss: 1.6615 - val_accuracy: 0.2896\n",
      "Epoch 11/100\n",
      "53/53 [==============================] - 1s 9ms/step - loss: 1.3279 - accuracy: 0.4372 - val_loss: 1.6794 - val_accuracy: 0.2854\n",
      "Epoch 12/100\n",
      "53/53 [==============================] - 0s 9ms/step - loss: 1.3105 - accuracy: 0.4574 - val_loss: 1.6851 - val_accuracy: 0.2833\n",
      "Epoch 13/100\n",
      "53/53 [==============================] - 0s 8ms/step - loss: 1.2933 - accuracy: 0.4717 - val_loss: 1.6910 - val_accuracy: 0.2625\n",
      "Epoch 14/100\n",
      "53/53 [==============================] - 0s 8ms/step - loss: 1.2779 - accuracy: 0.4777 - val_loss: 1.7182 - val_accuracy: 0.2639\n",
      "Epoch 15/100\n",
      "53/53 [==============================] - 0s 9ms/step - loss: 1.2566 - accuracy: 0.4964 - val_loss: 1.7342 - val_accuracy: 0.2674\n",
      "Epoch 16/100\n",
      "53/53 [==============================] - 0s 7ms/step - loss: 1.2422 - accuracy: 0.5068 - val_loss: 1.7669 - val_accuracy: 0.2722\n",
      "Epoch 17/100\n",
      "53/53 [==============================] - 0s 8ms/step - loss: 1.2258 - accuracy: 0.5182 - val_loss: 1.7758 - val_accuracy: 0.2667\n",
      "Epoch 18/100\n",
      "53/53 [==============================] - 0s 9ms/step - loss: 1.2097 - accuracy: 0.5259 - val_loss: 1.7953 - val_accuracy: 0.2667\n",
      "Epoch 19/100\n",
      "53/53 [==============================] - 0s 9ms/step - loss: 1.1944 - accuracy: 0.5321 - val_loss: 1.8461 - val_accuracy: 0.2549\n",
      "Epoch 20/100\n",
      "53/53 [==============================] - 0s 7ms/step - loss: 1.1860 - accuracy: 0.5348 - val_loss: 1.8349 - val_accuracy: 0.2618\n",
      "Epoch 21/100\n",
      "53/53 [==============================] - 0s 8ms/step - loss: 1.1674 - accuracy: 0.5482 - val_loss: 1.8561 - val_accuracy: 0.2569\n",
      "Epoch 22/100\n",
      "53/53 [==============================] - 0s 7ms/step - loss: 1.1575 - accuracy: 0.5542 - val_loss: 1.9025 - val_accuracy: 0.2424\n",
      "Epoch 23/100\n",
      "53/53 [==============================] - 0s 7ms/step - loss: 1.1355 - accuracy: 0.5685 - val_loss: 1.9002 - val_accuracy: 0.2556\n",
      "Epoch 24/100\n",
      "53/53 [==============================] - 0s 7ms/step - loss: 1.1278 - accuracy: 0.5702 - val_loss: 1.9115 - val_accuracy: 0.2500\n",
      "Epoch 25/100\n",
      "53/53 [==============================] - 0s 7ms/step - loss: 1.1121 - accuracy: 0.5807 - val_loss: 1.9249 - val_accuracy: 0.2486\n",
      "Epoch 26/100\n",
      "53/53 [==============================] - 0s 7ms/step - loss: 1.0966 - accuracy: 0.5821 - val_loss: 1.9374 - val_accuracy: 0.2556\n",
      "Epoch 27/100\n",
      "53/53 [==============================] - 0s 7ms/step - loss: 1.0891 - accuracy: 0.5821 - val_loss: 1.9734 - val_accuracy: 0.2528\n",
      "Epoch 28/100\n",
      "53/53 [==============================] - 0s 8ms/step - loss: 1.0785 - accuracy: 0.5878 - val_loss: 1.9721 - val_accuracy: 0.2535\n",
      "Epoch 29/100\n",
      "53/53 [==============================] - 0s 7ms/step - loss: 1.0660 - accuracy: 0.5985 - val_loss: 1.9982 - val_accuracy: 0.2451\n",
      "Epoch 30/100\n",
      "53/53 [==============================] - 0s 8ms/step - loss: 1.0626 - accuracy: 0.6006 - val_loss: 2.0006 - val_accuracy: 0.2500\n",
      "Epoch 31/100\n",
      "53/53 [==============================] - 0s 7ms/step - loss: 1.0631 - accuracy: 0.6051 - val_loss: 1.9724 - val_accuracy: 0.2507\n",
      "Epoch 32/100\n",
      "53/53 [==============================] - 0s 7ms/step - loss: 1.0634 - accuracy: 0.6042 - val_loss: 1.9698 - val_accuracy: 0.2646\n",
      "Epoch 33/100\n",
      "53/53 [==============================] - 0s 8ms/step - loss: 1.0521 - accuracy: 0.6113 - val_loss: 2.0095 - val_accuracy: 0.2535\n",
      "Epoch 34/100\n",
      "53/53 [==============================] - 0s 9ms/step - loss: 1.0454 - accuracy: 0.6116 - val_loss: 2.0184 - val_accuracy: 0.2535\n",
      "Epoch 35/100\n",
      "53/53 [==============================] - 0s 7ms/step - loss: 1.0326 - accuracy: 0.6173 - val_loss: 2.0629 - val_accuracy: 0.2514\n",
      "Epoch 36/100\n",
      "53/53 [==============================] - 0s 6ms/step - loss: 1.0252 - accuracy: 0.6244 - val_loss: 2.0548 - val_accuracy: 0.2521\n",
      "Epoch 37/100\n",
      "53/53 [==============================] - 0s 6ms/step - loss: 1.0122 - accuracy: 0.6372 - val_loss: 2.0850 - val_accuracy: 0.2451\n",
      "Epoch 38/100\n",
      "53/53 [==============================] - 0s 7ms/step - loss: 1.0062 - accuracy: 0.6443 - val_loss: 2.0645 - val_accuracy: 0.2465\n",
      "Epoch 39/100\n",
      "53/53 [==============================] - 0s 9ms/step - loss: 0.9981 - accuracy: 0.6479 - val_loss: 2.0815 - val_accuracy: 0.2507\n",
      "Epoch 40/100\n",
      "53/53 [==============================] - 0s 8ms/step - loss: 0.9943 - accuracy: 0.6539 - val_loss: 2.0765 - val_accuracy: 0.2528\n",
      "Epoch 41/100\n",
      "53/53 [==============================] - 0s 7ms/step - loss: 0.9920 - accuracy: 0.6509 - val_loss: 2.0946 - val_accuracy: 0.2340\n",
      "Epoch 42/100\n",
      "53/53 [==============================] - 0s 7ms/step - loss: 0.9841 - accuracy: 0.6542 - val_loss: 2.1270 - val_accuracy: 0.2333\n",
      "Epoch 43/100\n",
      "53/53 [==============================] - 0s 8ms/step - loss: 0.9756 - accuracy: 0.6586 - val_loss: 2.1113 - val_accuracy: 0.2493\n",
      "Epoch 44/100\n",
      "53/53 [==============================] - 0s 7ms/step - loss: 0.9608 - accuracy: 0.6673 - val_loss: 2.1189 - val_accuracy: 0.2528\n",
      "Epoch 45/100\n",
      "53/53 [==============================] - 0s 7ms/step - loss: 0.9650 - accuracy: 0.6679 - val_loss: 2.1246 - val_accuracy: 0.2500\n",
      "Epoch 46/100\n",
      "53/53 [==============================] - 0s 7ms/step - loss: 0.9588 - accuracy: 0.6679 - val_loss: 2.1276 - val_accuracy: 0.2569\n",
      "Epoch 47/100\n",
      "53/53 [==============================] - 0s 7ms/step - loss: 0.9528 - accuracy: 0.6699 - val_loss: 2.1187 - val_accuracy: 0.2500\n",
      "Epoch 48/100\n",
      "53/53 [==============================] - 0s 9ms/step - loss: 0.9497 - accuracy: 0.6729 - val_loss: 2.1328 - val_accuracy: 0.2396\n",
      "Epoch 49/100\n",
      "53/53 [==============================] - 0s 9ms/step - loss: 0.9446 - accuracy: 0.6732 - val_loss: 2.1448 - val_accuracy: 0.2417\n",
      "Epoch 50/100\n",
      "53/53 [==============================] - 0s 9ms/step - loss: 0.9526 - accuracy: 0.6655 - val_loss: 2.1632 - val_accuracy: 0.2438\n",
      "Epoch 51/100\n",
      "53/53 [==============================] - 0s 7ms/step - loss: 0.9451 - accuracy: 0.6804 - val_loss: 2.1553 - val_accuracy: 0.2576\n",
      "Epoch 52/100\n",
      "53/53 [==============================] - 0s 8ms/step - loss: 0.9474 - accuracy: 0.6750 - val_loss: 2.1428 - val_accuracy: 0.2486\n",
      "Epoch 53/100\n",
      "53/53 [==============================] - 0s 9ms/step - loss: 0.9400 - accuracy: 0.6807 - val_loss: 2.1769 - val_accuracy: 0.2472\n",
      "Epoch 54/100\n",
      "53/53 [==============================] - 0s 7ms/step - loss: 0.9508 - accuracy: 0.6738 - val_loss: 2.1558 - val_accuracy: 0.2403\n",
      "Epoch 55/100\n",
      "53/53 [==============================] - 0s 7ms/step - loss: 0.9503 - accuracy: 0.6777 - val_loss: 2.1860 - val_accuracy: 0.2472\n",
      "Epoch 56/100\n",
      "53/53 [==============================] - 0s 8ms/step - loss: 0.9452 - accuracy: 0.6679 - val_loss: 2.1543 - val_accuracy: 0.2424\n",
      "Epoch 57/100\n",
      "53/53 [==============================] - 0s 7ms/step - loss: 0.9399 - accuracy: 0.6765 - val_loss: 2.1472 - val_accuracy: 0.2549\n",
      "Epoch 58/100\n",
      "53/53 [==============================] - 0s 7ms/step - loss: 0.9322 - accuracy: 0.6789 - val_loss: 2.1555 - val_accuracy: 0.2549\n"
     ]
    },
    {
     "name": "stdout",
     "output_type": "stream",
     "text": [
      "Epoch 59/100\n",
      "53/53 [==============================] - 0s 6ms/step - loss: 0.9202 - accuracy: 0.6890 - val_loss: 2.1786 - val_accuracy: 0.2444\n",
      "Epoch 60/100\n",
      "53/53 [==============================] - 0s 6ms/step - loss: 0.9055 - accuracy: 0.6926 - val_loss: 2.1933 - val_accuracy: 0.2438\n",
      "Epoch 61/100\n",
      "53/53 [==============================] - 0s 6ms/step - loss: 0.8937 - accuracy: 0.6973 - val_loss: 2.2485 - val_accuracy: 0.2340\n",
      "Epoch 62/100\n",
      "53/53 [==============================] - 0s 6ms/step - loss: 0.8895 - accuracy: 0.7027 - val_loss: 2.2774 - val_accuracy: 0.2319\n",
      "Epoch 63/100\n",
      "53/53 [==============================] - 0s 7ms/step - loss: 0.8925 - accuracy: 0.6994 - val_loss: 2.2754 - val_accuracy: 0.2319\n",
      "Epoch 64/100\n",
      "53/53 [==============================] - 0s 6ms/step - loss: 0.8877 - accuracy: 0.7057 - val_loss: 2.2796 - val_accuracy: 0.2361\n",
      "Epoch 65/100\n",
      "53/53 [==============================] - 0s 7ms/step - loss: 0.8862 - accuracy: 0.7063 - val_loss: 2.2869 - val_accuracy: 0.2299\n",
      "Epoch 66/100\n",
      "53/53 [==============================] - 0s 8ms/step - loss: 0.8817 - accuracy: 0.7051 - val_loss: 2.3025 - val_accuracy: 0.2347\n",
      "Epoch 67/100\n",
      "53/53 [==============================] - 0s 7ms/step - loss: 0.8695 - accuracy: 0.7092 - val_loss: 2.3078 - val_accuracy: 0.2472\n",
      "Epoch 68/100\n",
      "53/53 [==============================] - 0s 7ms/step - loss: 0.8789 - accuracy: 0.7036 - val_loss: 2.2893 - val_accuracy: 0.2438\n",
      "Epoch 69/100\n",
      "53/53 [==============================] - 0s 7ms/step - loss: 0.8784 - accuracy: 0.7039 - val_loss: 2.2592 - val_accuracy: 0.2375\n",
      "Epoch 70/100\n",
      "53/53 [==============================] - 0s 7ms/step - loss: 0.8657 - accuracy: 0.7131 - val_loss: 2.3526 - val_accuracy: 0.2313\n",
      "Epoch 71/100\n",
      "53/53 [==============================] - 0s 7ms/step - loss: 0.8586 - accuracy: 0.7158 - val_loss: 2.3530 - val_accuracy: 0.2313\n",
      "Epoch 72/100\n",
      "53/53 [==============================] - 0s 8ms/step - loss: 0.8512 - accuracy: 0.7149 - val_loss: 2.3674 - val_accuracy: 0.2326\n",
      "Epoch 73/100\n",
      "53/53 [==============================] - 0s 7ms/step - loss: 0.8505 - accuracy: 0.7199 - val_loss: 2.3631 - val_accuracy: 0.2347\n",
      "Epoch 74/100\n",
      "53/53 [==============================] - 0s 7ms/step - loss: 0.8577 - accuracy: 0.7131 - val_loss: 2.3711 - val_accuracy: 0.2313\n",
      "Epoch 75/100\n",
      "53/53 [==============================] - 0s 7ms/step - loss: 0.8646 - accuracy: 0.7122 - val_loss: 2.3942 - val_accuracy: 0.2278\n",
      "Epoch 76/100\n",
      "53/53 [==============================] - 0s 7ms/step - loss: 0.8677 - accuracy: 0.7083 - val_loss: 2.3705 - val_accuracy: 0.2333\n",
      "Epoch 77/100\n",
      "53/53 [==============================] - 0s 7ms/step - loss: 0.8509 - accuracy: 0.7128 - val_loss: 2.3953 - val_accuracy: 0.2299\n",
      "Epoch 78/100\n",
      "53/53 [==============================] - 0s 7ms/step - loss: 0.8419 - accuracy: 0.7170 - val_loss: 2.4012 - val_accuracy: 0.2292\n",
      "Epoch 79/100\n",
      "53/53 [==============================] - 0s 7ms/step - loss: 0.8349 - accuracy: 0.7220 - val_loss: 2.4482 - val_accuracy: 0.2271\n",
      "Epoch 80/100\n",
      "53/53 [==============================] - 0s 7ms/step - loss: 0.8323 - accuracy: 0.7262 - val_loss: 2.4146 - val_accuracy: 0.2313\n",
      "Epoch 81/100\n",
      "53/53 [==============================] - 0s 7ms/step - loss: 0.8389 - accuracy: 0.7193 - val_loss: 2.4206 - val_accuracy: 0.2278\n",
      "Epoch 82/100\n",
      "53/53 [==============================] - 0s 7ms/step - loss: 0.8504 - accuracy: 0.7140 - val_loss: 2.4276 - val_accuracy: 0.2299\n",
      "Epoch 83/100\n",
      "53/53 [==============================] - 0s 8ms/step - loss: 0.8539 - accuracy: 0.7107 - val_loss: 2.4182 - val_accuracy: 0.2292\n",
      "Epoch 84/100\n",
      "53/53 [==============================] - 0s 7ms/step - loss: 0.8556 - accuracy: 0.7101 - val_loss: 2.3726 - val_accuracy: 0.2375\n",
      "Epoch 85/100\n",
      "53/53 [==============================] - 0s 7ms/step - loss: 0.8532 - accuracy: 0.7080 - val_loss: 2.3810 - val_accuracy: 0.2361\n",
      "Epoch 86/100\n",
      "53/53 [==============================] - 0s 8ms/step - loss: 0.8421 - accuracy: 0.7131 - val_loss: 2.3677 - val_accuracy: 0.2403\n",
      "Epoch 87/100\n",
      "53/53 [==============================] - 0s 7ms/step - loss: 0.8446 - accuracy: 0.7176 - val_loss: 2.3493 - val_accuracy: 0.2438\n",
      "Epoch 88/100\n",
      "53/53 [==============================] - 0s 7ms/step - loss: 0.8451 - accuracy: 0.7125 - val_loss: 2.3770 - val_accuracy: 0.2382\n",
      "Epoch 89/100\n",
      "53/53 [==============================] - 0s 9ms/step - loss: 0.8585 - accuracy: 0.7063 - val_loss: 2.3589 - val_accuracy: 0.2458\n",
      "Epoch 90/100\n",
      "53/53 [==============================] - 0s 8ms/step - loss: 0.8590 - accuracy: 0.7074 - val_loss: 2.3686 - val_accuracy: 0.2375\n",
      "Epoch 91/100\n",
      "53/53 [==============================] - 0s 9ms/step - loss: 0.8378 - accuracy: 0.7131 - val_loss: 2.3575 - val_accuracy: 0.2410\n",
      "Epoch 92/100\n",
      "53/53 [==============================] - 0s 9ms/step - loss: 0.8354 - accuracy: 0.7164 - val_loss: 2.4446 - val_accuracy: 0.2313\n",
      "Epoch 93/100\n",
      "53/53 [==============================] - 0s 8ms/step - loss: 0.8280 - accuracy: 0.7193 - val_loss: 2.4582 - val_accuracy: 0.2389\n",
      "Epoch 94/100\n",
      "53/53 [==============================] - 0s 8ms/step - loss: 0.8266 - accuracy: 0.7193 - val_loss: 2.4080 - val_accuracy: 0.2368\n",
      "Epoch 95/100\n",
      "53/53 [==============================] - 0s 7ms/step - loss: 0.8202 - accuracy: 0.7223 - val_loss: 2.4589 - val_accuracy: 0.2396\n",
      "Epoch 96/100\n",
      "53/53 [==============================] - 0s 9ms/step - loss: 0.8117 - accuracy: 0.7208 - val_loss: 2.4372 - val_accuracy: 0.2347\n",
      "Epoch 97/100\n",
      "53/53 [==============================] - 0s 7ms/step - loss: 0.8185 - accuracy: 0.7226 - val_loss: 2.4399 - val_accuracy: 0.2368\n",
      "Epoch 98/100\n",
      "53/53 [==============================] - 0s 7ms/step - loss: 0.8246 - accuracy: 0.7167 - val_loss: 2.4076 - val_accuracy: 0.2382\n",
      "Epoch 99/100\n",
      "53/53 [==============================] - 0s 8ms/step - loss: 0.8144 - accuracy: 0.7199 - val_loss: 2.4412 - val_accuracy: 0.2396\n",
      "Epoch 100/100\n",
      "53/53 [==============================] - 0s 7ms/step - loss: 0.8116 - accuracy: 0.7196 - val_loss: 2.4070 - val_accuracy: 0.2410\n"
     ]
    }
   ],
   "source": [
    "# Compile your model with sgd\n",
    "prediction_model.compile(optimizer='adam', loss='sparse_categorical_crossentropy', metrics=['accuracy'])\n",
    "# Train the batch normalized model you recently built, store its history callback\n",
    "output = prediction_model.fit(x_train, y_train,64, validation_data=(x_test,y_test), epochs=100, verbose=1)"
   ]
  },
  {
   "cell_type": "code",
   "execution_count": 16,
   "metadata": {},
   "outputs": [
    {
     "data": {
      "image/png": "[encoded data removed]",
      "text/plain": [
       "<Figure size 432x288 with 1 Axes>"
      ]
     },
     "metadata": {
      "needs_background": "light"
     },
     "output_type": "display_data"
    }
   ],
   "source": [
    "plt.plot(output.history['accuracy'],label='Accuracy')\n",
    "plt.xlabel('Epochs')\n",
    "plt.ylabel('Accuracy')\n",
    "plt.title('Graph between No of Epochs and Accuracies')\n",
    "plt.legend()\n",
    "plt.show()"
   ]
  },
  {
   "cell_type": "code",
   "execution_count": 17,
   "metadata": {},
   "outputs": [
    {
     "data": {
      "image/png": "[encoded data removed]",
      "text/plain": [
       "<Figure size 432x288 with 1 Axes>"
      ]
     },
     "metadata": {
      "needs_background": "light"
     },
     "output_type": "display_data"
    }
   ],
   "source": [
    "plt.plot(output.history['val_accuracy'],label='Validation Accuracy')\n",
    "plt.xlabel('Epochs')\n",
    "plt.ylabel('Validation Accuracy')\n",
    "plt.title('Graph between No of Epochs and Validation Accuracy')\n",
    "plt.legend()\n",
    "plt.show()"
   ]
  },
  {
   "cell_type": "code",
   "execution_count": 18,
   "metadata": {},
   "outputs": [
    {
     "data": {
      "image/png": "[encoded data removed]",
      "text/plain": [
       "<Figure size 432x288 with 1 Axes>"
      ]
     },
     "metadata": {
      "needs_background": "light"
     },
     "output_type": "display_data"
    }
   ],
   "source": [
    "plt.plot(output.history['loss'],label='Loss')\n",
    "plt.xlabel('Epochs')\n",
    "plt.ylabel('Loss')\n",
    "plt.title('Graph between No. of Epochs and Loss')\n",
    "plt.legend()\n",
    "plt.show()"
   ]
  },
  {
   "cell_type": "code",
   "execution_count": null,
   "metadata": {},
   "outputs": [],
   "source": []
  }
 ],
 "metadata": {
  "kernelspec": {
   "display_name": "Python 3",
   "language": "python",
   "name": "python3"
  },
  "language_info": {
   "codemirror_mode": {
    "name": "ipython",
    "version": 3
   },
   "file_extension": ".py",
   "mimetype": "text/x-python",
   "name": "python",
   "nbconvert_exporter": "python",
   "pygments_lexer": "ipython3",
   "version": "3.8.5"
  }
 },
 "nbformat": 4,
 "nbformat_minor": 4
}
